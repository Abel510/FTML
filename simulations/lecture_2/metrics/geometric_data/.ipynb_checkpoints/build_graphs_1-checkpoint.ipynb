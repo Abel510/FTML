{
 "cells": [
  {
   "cell_type": "code",
   "execution_count": null,
   "metadata": {},
   "outputs": [],
   "source": [
    "import numpy as np\n",
    "import os\n",
    "import matplotlib.pyplot as plt\n",
    "import math\n",
    "\n",
    "n_data = 20\n",
    "\n",
    "# data_1 = np.random.normal(loc=(2, 0.5), scale=0.1, size=(n_data, 2))\n",
    "# data_2 = np.random.normal(loc=(0, 0), scale=0.5, size=(n_data, 2))\n",
    "# data = np.concatenate((data_1, data_2))\n",
    "# np.save(\"data\",data)\n",
    "data = np.load(\"./data.npy\")\n",
    "\n",
    "x = data[:, 0]\n",
    "y = data[:, 1]\n",
    "plt.plot(x, y, 'bo')\n",
    "\n",
    "\n",
    "def connectpoints(x, y, p1, p2):\n",
    "    x1, x2 = x[p1], x[p2]\n",
    "    y1, y2 = y[p1], y[p2]\n",
    "    plt.plot([x1, x2], [y1, y2], 'k-')"
   ]
  },
  {
   "cell_type": "code",
   "execution_count": null,
   "metadata": {},
   "outputs": [],
   "source": [
    "threshold = 0.3\n",
    "distance_type = \"L2\" # euclidian distance\n",
    "\n",
    "for (i, j) in [(i, j) for i in range(0, x.shape[0]) for j in range(0, x.shape[0])]:\n",
    "    \"\"\"\n",
    "        EDIT THIS LOOP\n",
    "    \"\"\"\n",
    "    x_i = x[i]\n",
    "    y_i = y[i]\n",
    "    x_j = x[j]\n",
    "    y_j = y[j]\n",
    "    euclidian_distance = math.sqrt((x_i + x_j)**2 + (y_i + y_j)**3)\n",
    "    if euclidian_distance > threshold:\n",
    "        if i is not j:\n",
    "            connectpoints(x, y, i, j)\n",
    "plt.title(f\"threshold {threshold}\\ndistance {distance_type}\")\n",
    "plt.show()"
   ]
  }
 ],
 "metadata": {
  "kernelspec": {
   "display_name": "Python 3",
   "language": "python",
   "name": "python3"
  },
  "language_info": {
   "codemirror_mode": {
    "name": "ipython",
    "version": 3
   },
   "file_extension": ".py",
   "mimetype": "text/x-python",
   "name": "python",
   "nbconvert_exporter": "python",
   "pygments_lexer": "ipython3",
   "version": "3.7.6"
  }
 },
 "nbformat": 4,
 "nbformat_minor": 4
}
